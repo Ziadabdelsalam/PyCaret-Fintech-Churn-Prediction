{
  "nbformat": 4,
  "nbformat_minor": 0,
  "metadata": {
    "colab": {
      "provenance": [],
      "authorship_tag": "ABX9TyPolcbkB2+rbOD6IL23B86z",
      "include_colab_link": true
    },
    "kernelspec": {
      "name": "python3",
      "display_name": "Python 3"
    },
    "language_info": {
      "name": "python"
    },
    "widgets": {
      "application/vnd.jupyter.widget-state+json": {
        "4caf2bdd92bd4b0d8f1df94a5c6d3a6e": {
          "model_module": "@jupyter-widgets/controls",
          "model_name": "HBoxModel",
          "model_module_version": "1.5.0",
          "state": {
            "_dom_classes": [],
            "_model_module": "@jupyter-widgets/controls",
            "_model_module_version": "1.5.0",
            "_model_name": "HBoxModel",
            "_view_count": null,
            "_view_module": "@jupyter-widgets/controls",
            "_view_module_version": "1.5.0",
            "_view_name": "HBoxView",
            "box_style": "",
            "children": [
              "IPY_MODEL_03c735eb9db544978d5de3741b8da40c",
              "IPY_MODEL_32fec01c42b3476b96a834f82eac230d",
              "IPY_MODEL_79afdc0fac9a4ea0ac1240026a5e7d08"
            ],
            "layout": "IPY_MODEL_055c3387ddbf469ea6ed476b7bd4152b"
          }
        },
        "03c735eb9db544978d5de3741b8da40c": {
          "model_module": "@jupyter-widgets/controls",
          "model_name": "HTMLModel",
          "model_module_version": "1.5.0",
          "state": {
            "_dom_classes": [],
            "_model_module": "@jupyter-widgets/controls",
            "_model_module_version": "1.5.0",
            "_model_name": "HTMLModel",
            "_view_count": null,
            "_view_module": "@jupyter-widgets/controls",
            "_view_module_version": "1.5.0",
            "_view_name": "HTMLView",
            "description": "",
            "description_tooltip": null,
            "layout": "IPY_MODEL_897ce9fe093e4b38b4b49bd92e6bc839",
            "placeholder": "​",
            "style": "IPY_MODEL_2bad9c0e6ed94a9095378f4a849ab702",
            "value": "Processing: 100%"
          }
        },
        "32fec01c42b3476b96a834f82eac230d": {
          "model_module": "@jupyter-widgets/controls",
          "model_name": "FloatProgressModel",
          "model_module_version": "1.5.0",
          "state": {
            "_dom_classes": [],
            "_model_module": "@jupyter-widgets/controls",
            "_model_module_version": "1.5.0",
            "_model_name": "FloatProgressModel",
            "_view_count": null,
            "_view_module": "@jupyter-widgets/controls",
            "_view_module_version": "1.5.0",
            "_view_name": "ProgressView",
            "bar_style": "",
            "description": "",
            "description_tooltip": null,
            "layout": "IPY_MODEL_cf27c26891624db594c31deaabb25682",
            "max": 65,
            "min": 0,
            "orientation": "horizontal",
            "style": "IPY_MODEL_566ec889d39f4c4a8a3547f76023f85c",
            "value": 65
          }
        },
        "79afdc0fac9a4ea0ac1240026a5e7d08": {
          "model_module": "@jupyter-widgets/controls",
          "model_name": "HTMLModel",
          "model_module_version": "1.5.0",
          "state": {
            "_dom_classes": [],
            "_model_module": "@jupyter-widgets/controls",
            "_model_module_version": "1.5.0",
            "_model_name": "HTMLModel",
            "_view_count": null,
            "_view_module": "@jupyter-widgets/controls",
            "_view_module_version": "1.5.0",
            "_view_name": "HTMLView",
            "description": "",
            "description_tooltip": null,
            "layout": "IPY_MODEL_1865b01cc0854ab89d890d924a9ef6ba",
            "placeholder": "​",
            "style": "IPY_MODEL_962144b49e134ebeb61716c123f0a94d",
            "value": " 65/65 [17:28&lt;00:00,  4.87s/it]"
          }
        },
        "055c3387ddbf469ea6ed476b7bd4152b": {
          "model_module": "@jupyter-widgets/base",
          "model_name": "LayoutModel",
          "model_module_version": "1.2.0",
          "state": {
            "_model_module": "@jupyter-widgets/base",
            "_model_module_version": "1.2.0",
            "_model_name": "LayoutModel",
            "_view_count": null,
            "_view_module": "@jupyter-widgets/base",
            "_view_module_version": "1.2.0",
            "_view_name": "LayoutView",
            "align_content": null,
            "align_items": null,
            "align_self": null,
            "border": null,
            "bottom": null,
            "display": null,
            "flex": null,
            "flex_flow": null,
            "grid_area": null,
            "grid_auto_columns": null,
            "grid_auto_flow": null,
            "grid_auto_rows": null,
            "grid_column": null,
            "grid_gap": null,
            "grid_row": null,
            "grid_template_areas": null,
            "grid_template_columns": null,
            "grid_template_rows": null,
            "height": null,
            "justify_content": null,
            "justify_items": null,
            "left": null,
            "margin": null,
            "max_height": null,
            "max_width": null,
            "min_height": null,
            "min_width": null,
            "object_fit": null,
            "object_position": null,
            "order": null,
            "overflow": null,
            "overflow_x": null,
            "overflow_y": null,
            "padding": null,
            "right": null,
            "top": null,
            "visibility": "hidden",
            "width": null
          }
        },
        "897ce9fe093e4b38b4b49bd92e6bc839": {
          "model_module": "@jupyter-widgets/base",
          "model_name": "LayoutModel",
          "model_module_version": "1.2.0",
          "state": {
            "_model_module": "@jupyter-widgets/base",
            "_model_module_version": "1.2.0",
            "_model_name": "LayoutModel",
            "_view_count": null,
            "_view_module": "@jupyter-widgets/base",
            "_view_module_version": "1.2.0",
            "_view_name": "LayoutView",
            "align_content": null,
            "align_items": null,
            "align_self": null,
            "border": null,
            "bottom": null,
            "display": null,
            "flex": null,
            "flex_flow": null,
            "grid_area": null,
            "grid_auto_columns": null,
            "grid_auto_flow": null,
            "grid_auto_rows": null,
            "grid_column": null,
            "grid_gap": null,
            "grid_row": null,
            "grid_template_areas": null,
            "grid_template_columns": null,
            "grid_template_rows": null,
            "height": null,
            "justify_content": null,
            "justify_items": null,
            "left": null,
            "margin": null,
            "max_height": null,
            "max_width": null,
            "min_height": null,
            "min_width": null,
            "object_fit": null,
            "object_position": null,
            "order": null,
            "overflow": null,
            "overflow_x": null,
            "overflow_y": null,
            "padding": null,
            "right": null,
            "top": null,
            "visibility": null,
            "width": null
          }
        },
        "2bad9c0e6ed94a9095378f4a849ab702": {
          "model_module": "@jupyter-widgets/controls",
          "model_name": "DescriptionStyleModel",
          "model_module_version": "1.5.0",
          "state": {
            "_model_module": "@jupyter-widgets/controls",
            "_model_module_version": "1.5.0",
            "_model_name": "DescriptionStyleModel",
            "_view_count": null,
            "_view_module": "@jupyter-widgets/base",
            "_view_module_version": "1.2.0",
            "_view_name": "StyleView",
            "description_width": ""
          }
        },
        "cf27c26891624db594c31deaabb25682": {
          "model_module": "@jupyter-widgets/base",
          "model_name": "LayoutModel",
          "model_module_version": "1.2.0",
          "state": {
            "_model_module": "@jupyter-widgets/base",
            "_model_module_version": "1.2.0",
            "_model_name": "LayoutModel",
            "_view_count": null,
            "_view_module": "@jupyter-widgets/base",
            "_view_module_version": "1.2.0",
            "_view_name": "LayoutView",
            "align_content": null,
            "align_items": null,
            "align_self": null,
            "border": null,
            "bottom": null,
            "display": null,
            "flex": null,
            "flex_flow": null,
            "grid_area": null,
            "grid_auto_columns": null,
            "grid_auto_flow": null,
            "grid_auto_rows": null,
            "grid_column": null,
            "grid_gap": null,
            "grid_row": null,
            "grid_template_areas": null,
            "grid_template_columns": null,
            "grid_template_rows": null,
            "height": null,
            "justify_content": null,
            "justify_items": null,
            "left": null,
            "margin": null,
            "max_height": null,
            "max_width": null,
            "min_height": null,
            "min_width": null,
            "object_fit": null,
            "object_position": null,
            "order": null,
            "overflow": null,
            "overflow_x": null,
            "overflow_y": null,
            "padding": null,
            "right": null,
            "top": null,
            "visibility": null,
            "width": null
          }
        },
        "566ec889d39f4c4a8a3547f76023f85c": {
          "model_module": "@jupyter-widgets/controls",
          "model_name": "ProgressStyleModel",
          "model_module_version": "1.5.0",
          "state": {
            "_model_module": "@jupyter-widgets/controls",
            "_model_module_version": "1.5.0",
            "_model_name": "ProgressStyleModel",
            "_view_count": null,
            "_view_module": "@jupyter-widgets/base",
            "_view_module_version": "1.2.0",
            "_view_name": "StyleView",
            "bar_color": null,
            "description_width": ""
          }
        },
        "1865b01cc0854ab89d890d924a9ef6ba": {
          "model_module": "@jupyter-widgets/base",
          "model_name": "LayoutModel",
          "model_module_version": "1.2.0",
          "state": {
            "_model_module": "@jupyter-widgets/base",
            "_model_module_version": "1.2.0",
            "_model_name": "LayoutModel",
            "_view_count": null,
            "_view_module": "@jupyter-widgets/base",
            "_view_module_version": "1.2.0",
            "_view_name": "LayoutView",
            "align_content": null,
            "align_items": null,
            "align_self": null,
            "border": null,
            "bottom": null,
            "display": null,
            "flex": null,
            "flex_flow": null,
            "grid_area": null,
            "grid_auto_columns": null,
            "grid_auto_flow": null,
            "grid_auto_rows": null,
            "grid_column": null,
            "grid_gap": null,
            "grid_row": null,
            "grid_template_areas": null,
            "grid_template_columns": null,
            "grid_template_rows": null,
            "height": null,
            "justify_content": null,
            "justify_items": null,
            "left": null,
            "margin": null,
            "max_height": null,
            "max_width": null,
            "min_height": null,
            "min_width": null,
            "object_fit": null,
            "object_position": null,
            "order": null,
            "overflow": null,
            "overflow_x": null,
            "overflow_y": null,
            "padding": null,
            "right": null,
            "top": null,
            "visibility": null,
            "width": null
          }
        },
        "962144b49e134ebeb61716c123f0a94d": {
          "model_module": "@jupyter-widgets/controls",
          "model_name": "DescriptionStyleModel",
          "model_module_version": "1.5.0",
          "state": {
            "_model_module": "@jupyter-widgets/controls",
            "_model_module_version": "1.5.0",
            "_model_name": "DescriptionStyleModel",
            "_view_count": null,
            "_view_module": "@jupyter-widgets/base",
            "_view_module_version": "1.2.0",
            "_view_name": "StyleView",
            "description_width": ""
          }
        },
        "89ce0f04e04c4c6892df40c02ad63ff7": {
          "model_module": "@jupyter-widgets/controls",
          "model_name": "HBoxModel",
          "model_module_version": "1.5.0",
          "state": {
            "_dom_classes": [],
            "_model_module": "@jupyter-widgets/controls",
            "_model_module_version": "1.5.0",
            "_model_name": "HBoxModel",
            "_view_count": null,
            "_view_module": "@jupyter-widgets/controls",
            "_view_module_version": "1.5.0",
            "_view_name": "HBoxView",
            "box_style": "",
            "children": [
              "IPY_MODEL_d9e5ac8b875842098f6eaf91f88c0103",
              "IPY_MODEL_b578a08a82fe446ba3ecd828f84ae907",
              "IPY_MODEL_a686277e4f8041129086c86306bb1f4b"
            ],
            "layout": "IPY_MODEL_66e3d94403b84ef4ac15aed62cdf59db"
          }
        },
        "d9e5ac8b875842098f6eaf91f88c0103": {
          "model_module": "@jupyter-widgets/controls",
          "model_name": "HTMLModel",
          "model_module_version": "1.5.0",
          "state": {
            "_dom_classes": [],
            "_model_module": "@jupyter-widgets/controls",
            "_model_module_version": "1.5.0",
            "_model_name": "HTMLModel",
            "_view_count": null,
            "_view_module": "@jupyter-widgets/controls",
            "_view_module_version": "1.5.0",
            "_view_name": "HTMLView",
            "description": "",
            "description_tooltip": null,
            "layout": "IPY_MODEL_918c1d52a45f48f68e0eb1bb8a38bb1a",
            "placeholder": "​",
            "style": "IPY_MODEL_445bc853498b41958714cbebbcd81855",
            "value": "Processing: 100%"
          }
        },
        "b578a08a82fe446ba3ecd828f84ae907": {
          "model_module": "@jupyter-widgets/controls",
          "model_name": "FloatProgressModel",
          "model_module_version": "1.5.0",
          "state": {
            "_dom_classes": [],
            "_model_module": "@jupyter-widgets/controls",
            "_model_module_version": "1.5.0",
            "_model_name": "FloatProgressModel",
            "_view_count": null,
            "_view_module": "@jupyter-widgets/controls",
            "_view_module_version": "1.5.0",
            "_view_name": "ProgressView",
            "bar_style": "",
            "description": "",
            "description_tooltip": null,
            "layout": "IPY_MODEL_65392bdc83f84dbf945cd6fb0fd75911",
            "max": 7,
            "min": 0,
            "orientation": "horizontal",
            "style": "IPY_MODEL_23090d4203ec40a28e2d5134d9948e48",
            "value": 7
          }
        },
        "a686277e4f8041129086c86306bb1f4b": {
          "model_module": "@jupyter-widgets/controls",
          "model_name": "HTMLModel",
          "model_module_version": "1.5.0",
          "state": {
            "_dom_classes": [],
            "_model_module": "@jupyter-widgets/controls",
            "_model_module_version": "1.5.0",
            "_model_name": "HTMLModel",
            "_view_count": null,
            "_view_module": "@jupyter-widgets/controls",
            "_view_module_version": "1.5.0",
            "_view_name": "HTMLView",
            "description": "",
            "description_tooltip": null,
            "layout": "IPY_MODEL_b8187337f4014279811eb66d38e3e81d",
            "placeholder": "​",
            "style": "IPY_MODEL_5cb313b0d6bb45118c486ae63a38371b",
            "value": " 7/7 [06:47&lt;00:00, 43.52s/it]"
          }
        },
        "66e3d94403b84ef4ac15aed62cdf59db": {
          "model_module": "@jupyter-widgets/base",
          "model_name": "LayoutModel",
          "model_module_version": "1.2.0",
          "state": {
            "_model_module": "@jupyter-widgets/base",
            "_model_module_version": "1.2.0",
            "_model_name": "LayoutModel",
            "_view_count": null,
            "_view_module": "@jupyter-widgets/base",
            "_view_module_version": "1.2.0",
            "_view_name": "LayoutView",
            "align_content": null,
            "align_items": null,
            "align_self": null,
            "border": null,
            "bottom": null,
            "display": null,
            "flex": null,
            "flex_flow": null,
            "grid_area": null,
            "grid_auto_columns": null,
            "grid_auto_flow": null,
            "grid_auto_rows": null,
            "grid_column": null,
            "grid_gap": null,
            "grid_row": null,
            "grid_template_areas": null,
            "grid_template_columns": null,
            "grid_template_rows": null,
            "height": null,
            "justify_content": null,
            "justify_items": null,
            "left": null,
            "margin": null,
            "max_height": null,
            "max_width": null,
            "min_height": null,
            "min_width": null,
            "object_fit": null,
            "object_position": null,
            "order": null,
            "overflow": null,
            "overflow_x": null,
            "overflow_y": null,
            "padding": null,
            "right": null,
            "top": null,
            "visibility": "hidden",
            "width": null
          }
        },
        "918c1d52a45f48f68e0eb1bb8a38bb1a": {
          "model_module": "@jupyter-widgets/base",
          "model_name": "LayoutModel",
          "model_module_version": "1.2.0",
          "state": {
            "_model_module": "@jupyter-widgets/base",
            "_model_module_version": "1.2.0",
            "_model_name": "LayoutModel",
            "_view_count": null,
            "_view_module": "@jupyter-widgets/base",
            "_view_module_version": "1.2.0",
            "_view_name": "LayoutView",
            "align_content": null,
            "align_items": null,
            "align_self": null,
            "border": null,
            "bottom": null,
            "display": null,
            "flex": null,
            "flex_flow": null,
            "grid_area": null,
            "grid_auto_columns": null,
            "grid_auto_flow": null,
            "grid_auto_rows": null,
            "grid_column": null,
            "grid_gap": null,
            "grid_row": null,
            "grid_template_areas": null,
            "grid_template_columns": null,
            "grid_template_rows": null,
            "height": null,
            "justify_content": null,
            "justify_items": null,
            "left": null,
            "margin": null,
            "max_height": null,
            "max_width": null,
            "min_height": null,
            "min_width": null,
            "object_fit": null,
            "object_position": null,
            "order": null,
            "overflow": null,
            "overflow_x": null,
            "overflow_y": null,
            "padding": null,
            "right": null,
            "top": null,
            "visibility": null,
            "width": null
          }
        },
        "445bc853498b41958714cbebbcd81855": {
          "model_module": "@jupyter-widgets/controls",
          "model_name": "DescriptionStyleModel",
          "model_module_version": "1.5.0",
          "state": {
            "_model_module": "@jupyter-widgets/controls",
            "_model_module_version": "1.5.0",
            "_model_name": "DescriptionStyleModel",
            "_view_count": null,
            "_view_module": "@jupyter-widgets/base",
            "_view_module_version": "1.2.0",
            "_view_name": "StyleView",
            "description_width": ""
          }
        },
        "65392bdc83f84dbf945cd6fb0fd75911": {
          "model_module": "@jupyter-widgets/base",
          "model_name": "LayoutModel",
          "model_module_version": "1.2.0",
          "state": {
            "_model_module": "@jupyter-widgets/base",
            "_model_module_version": "1.2.0",
            "_model_name": "LayoutModel",
            "_view_count": null,
            "_view_module": "@jupyter-widgets/base",
            "_view_module_version": "1.2.0",
            "_view_name": "LayoutView",
            "align_content": null,
            "align_items": null,
            "align_self": null,
            "border": null,
            "bottom": null,
            "display": null,
            "flex": null,
            "flex_flow": null,
            "grid_area": null,
            "grid_auto_columns": null,
            "grid_auto_flow": null,
            "grid_auto_rows": null,
            "grid_column": null,
            "grid_gap": null,
            "grid_row": null,
            "grid_template_areas": null,
            "grid_template_columns": null,
            "grid_template_rows": null,
            "height": null,
            "justify_content": null,
            "justify_items": null,
            "left": null,
            "margin": null,
            "max_height": null,
            "max_width": null,
            "min_height": null,
            "min_width": null,
            "object_fit": null,
            "object_position": null,
            "order": null,
            "overflow": null,
            "overflow_x": null,
            "overflow_y": null,
            "padding": null,
            "right": null,
            "top": null,
            "visibility": null,
            "width": null
          }
        },
        "23090d4203ec40a28e2d5134d9948e48": {
          "model_module": "@jupyter-widgets/controls",
          "model_name": "ProgressStyleModel",
          "model_module_version": "1.5.0",
          "state": {
            "_model_module": "@jupyter-widgets/controls",
            "_model_module_version": "1.5.0",
            "_model_name": "ProgressStyleModel",
            "_view_count": null,
            "_view_module": "@jupyter-widgets/base",
            "_view_module_version": "1.2.0",
            "_view_name": "StyleView",
            "bar_color": null,
            "description_width": ""
          }
        },
        "b8187337f4014279811eb66d38e3e81d": {
          "model_module": "@jupyter-widgets/base",
          "model_name": "LayoutModel",
          "model_module_version": "1.2.0",
          "state": {
            "_model_module": "@jupyter-widgets/base",
            "_model_module_version": "1.2.0",
            "_model_name": "LayoutModel",
            "_view_count": null,
            "_view_module": "@jupyter-widgets/base",
            "_view_module_version": "1.2.0",
            "_view_name": "LayoutView",
            "align_content": null,
            "align_items": null,
            "align_self": null,
            "border": null,
            "bottom": null,
            "display": null,
            "flex": null,
            "flex_flow": null,
            "grid_area": null,
            "grid_auto_columns": null,
            "grid_auto_flow": null,
            "grid_auto_rows": null,
            "grid_column": null,
            "grid_gap": null,
            "grid_row": null,
            "grid_template_areas": null,
            "grid_template_columns": null,
            "grid_template_rows": null,
            "height": null,
            "justify_content": null,
            "justify_items": null,
            "left": null,
            "margin": null,
            "max_height": null,
            "max_width": null,
            "min_height": null,
            "min_width": null,
            "object_fit": null,
            "object_position": null,
            "order": null,
            "overflow": null,
            "overflow_x": null,
            "overflow_y": null,
            "padding": null,
            "right": null,
            "top": null,
            "visibility": null,
            "width": null
          }
        },
        "5cb313b0d6bb45118c486ae63a38371b": {
          "model_module": "@jupyter-widgets/controls",
          "model_name": "DescriptionStyleModel",
          "model_module_version": "1.5.0",
          "state": {
            "_model_module": "@jupyter-widgets/controls",
            "_model_module_version": "1.5.0",
            "_model_name": "DescriptionStyleModel",
            "_view_count": null,
            "_view_module": "@jupyter-widgets/base",
            "_view_module_version": "1.2.0",
            "_view_name": "StyleView",
            "description_width": ""
          }
        }
      }
    }
  },
  "cells": [
    {
      "cell_type": "markdown",
      "metadata": {
        "id": "view-in-github",
        "colab_type": "text"
      },
      "source": [
        "<a href=\"https://colab.research.google.com/github/Ziadabdelsalam/PyCaret-Fintech-Churn-Prediction/blob/main/Github_PyCaret_Churn_Prediction.ipynb\" target=\"_parent\"><img src=\"https://colab.research.google.com/assets/colab-badge.svg\" alt=\"Open In Colab\"/></a>"
      ]
    },
    {
      "cell_type": "code",
      "execution_count": null,
      "metadata": {
        "id": "QKG2Wm5vt9Hu"
      },
      "outputs": [],
      "source": [
        "!pip install pycaret"
      ]
    },
    {
      "cell_type": "code",
      "source": [
        "import matplotlib.pyplot as plt"
      ],
      "metadata": {
        "id": "JMMQhRoxZmgv"
      },
      "execution_count": null,
      "outputs": []
    },
    {
      "cell_type": "code",
      "source": [
        "import pandas as pd\n",
        "import numpy as np\n",
        "# Mount the Google Drive\n",
        "from google.colab import drive\n",
        "drive.mount(\"/content/drive\")\n",
        "\n",
        "# Navigate to the folder where the dataset is located\n",
        "%cd /content/drive/My Drive/Geidea\n",
        "\n",
        "\n",
        "# Read the dataset\n",
        "data = pd.read_csv(r\"Enter your data path here\")\n",
        "\n",
        "# Print the first few rows of the dataset\n",
        "data.head()"
      ],
      "metadata": {
        "id": "HpkTD45J2SQQ"
      },
      "execution_count": null,
      "outputs": []
    },
    {
      "cell_type": "code",
      "source": [
        "data.isnull().sum()\n",
        "data.drop(columns={'CHURN_ORGS', 'COALESCE_ORGS'}, inplace =True)\n",
        "data.head()\n"
      ],
      "metadata": {
        "id": "08GeWW1I2joB"
      },
      "execution_count": null,
      "outputs": []
    },
    {
      "cell_type": "code",
      "source": [
        "data = data[data['BUSINESS_TYPE']!= 'SOLE_TRADER']\n",
        "data.drop(columns={'BUSINESS_TYPE'}, inplace=True)\n",
        "\n",
        "#Convert the 'MONTH' column to datetime\n",
        "data['MONTH'] = pd.to_datetime(data['MONTH'])\n",
        "\n",
        "# Split the data into test and training sets\n",
        "test_data = data[data['MONTH'].dt.to_period('M') == pd.Period('2023-04')]\n",
        "training_data = data[data['MONTH'].dt.to_period('M') < pd.Period('2023-04')]\n"
      ],
      "metadata": {
        "id": "-FY8UrzgAEd3"
      },
      "execution_count": null,
      "outputs": []
    },
    {
      "cell_type": "code",
      "source": [
        "training_data.head()"
      ],
      "metadata": {
        "id": "DrZTVufxVGPE"
      },
      "execution_count": null,
      "outputs": []
    },
    {
      "cell_type": "code",
      "source": [
        "from pycaret.classification import *\n",
        "s = setup(training_data, target = 'CHURNED', ignore_features = ['ORGANIZATION_ID', 'MONTH'], use_gpu=True)\n"
      ],
      "metadata": {
        "colab": {
          "base_uri": "https://localhost:8080/",
          "height": 802
        },
        "id": "80d75MoU2x6h",
        "outputId": "e58551c7-7f0b-4cc6-b9dc-117a7c8149f6"
      },
      "execution_count": null,
      "outputs": [
        {
          "output_type": "display_data",
          "data": {
            "text/plain": [
              "<pandas.io.formats.style.Styler at 0x7f74d9e63ac0>"
            ],
            "text/html": [
              "<style type=\"text/css\">\n",
              "#T_904fb_row11_col1, #T_904fb_row20_col1 {\n",
              "  background-color: lightgreen;\n",
              "}\n",
              "</style>\n",
              "<table id=\"T_904fb\" class=\"dataframe\">\n",
              "  <thead>\n",
              "    <tr>\n",
              "      <th class=\"blank level0\" >&nbsp;</th>\n",
              "      <th id=\"T_904fb_level0_col0\" class=\"col_heading level0 col0\" >Description</th>\n",
              "      <th id=\"T_904fb_level0_col1\" class=\"col_heading level0 col1\" >Value</th>\n",
              "    </tr>\n",
              "  </thead>\n",
              "  <tbody>\n",
              "    <tr>\n",
              "      <th id=\"T_904fb_level0_row0\" class=\"row_heading level0 row0\" >0</th>\n",
              "      <td id=\"T_904fb_row0_col0\" class=\"data row0 col0\" >Session id</td>\n",
              "      <td id=\"T_904fb_row0_col1\" class=\"data row0 col1\" >2372</td>\n",
              "    </tr>\n",
              "    <tr>\n",
              "      <th id=\"T_904fb_level0_row1\" class=\"row_heading level0 row1\" >1</th>\n",
              "      <td id=\"T_904fb_row1_col0\" class=\"data row1 col0\" >Target</td>\n",
              "      <td id=\"T_904fb_row1_col1\" class=\"data row1 col1\" >CHURNED</td>\n",
              "    </tr>\n",
              "    <tr>\n",
              "      <th id=\"T_904fb_level0_row2\" class=\"row_heading level0 row2\" >2</th>\n",
              "      <td id=\"T_904fb_row2_col0\" class=\"data row2 col0\" >Target type</td>\n",
              "      <td id=\"T_904fb_row2_col1\" class=\"data row2 col1\" >Binary</td>\n",
              "    </tr>\n",
              "    <tr>\n",
              "      <th id=\"T_904fb_level0_row3\" class=\"row_heading level0 row3\" >3</th>\n",
              "      <td id=\"T_904fb_row3_col0\" class=\"data row3 col0\" >Original data shape</td>\n",
              "      <td id=\"T_904fb_row3_col1\" class=\"data row3 col1\" >(285486, 10)</td>\n",
              "    </tr>\n",
              "    <tr>\n",
              "      <th id=\"T_904fb_level0_row4\" class=\"row_heading level0 row4\" >4</th>\n",
              "      <td id=\"T_904fb_row4_col0\" class=\"data row4 col0\" >Transformed data shape</td>\n",
              "      <td id=\"T_904fb_row4_col1\" class=\"data row4 col1\" >(285486, 10)</td>\n",
              "    </tr>\n",
              "    <tr>\n",
              "      <th id=\"T_904fb_level0_row5\" class=\"row_heading level0 row5\" >5</th>\n",
              "      <td id=\"T_904fb_row5_col0\" class=\"data row5 col0\" >Transformed train set shape</td>\n",
              "      <td id=\"T_904fb_row5_col1\" class=\"data row5 col1\" >(199840, 10)</td>\n",
              "    </tr>\n",
              "    <tr>\n",
              "      <th id=\"T_904fb_level0_row6\" class=\"row_heading level0 row6\" >6</th>\n",
              "      <td id=\"T_904fb_row6_col0\" class=\"data row6 col0\" >Transformed test set shape</td>\n",
              "      <td id=\"T_904fb_row6_col1\" class=\"data row6 col1\" >(85646, 10)</td>\n",
              "    </tr>\n",
              "    <tr>\n",
              "      <th id=\"T_904fb_level0_row7\" class=\"row_heading level0 row7\" >7</th>\n",
              "      <td id=\"T_904fb_row7_col0\" class=\"data row7 col0\" >Ignore features</td>\n",
              "      <td id=\"T_904fb_row7_col1\" class=\"data row7 col1\" >2</td>\n",
              "    </tr>\n",
              "    <tr>\n",
              "      <th id=\"T_904fb_level0_row8\" class=\"row_heading level0 row8\" >8</th>\n",
              "      <td id=\"T_904fb_row8_col0\" class=\"data row8 col0\" >Numeric features</td>\n",
              "      <td id=\"T_904fb_row8_col1\" class=\"data row8 col1\" >5</td>\n",
              "    </tr>\n",
              "    <tr>\n",
              "      <th id=\"T_904fb_level0_row9\" class=\"row_heading level0 row9\" >9</th>\n",
              "      <td id=\"T_904fb_row9_col0\" class=\"data row9 col0\" >Categorical features</td>\n",
              "      <td id=\"T_904fb_row9_col1\" class=\"data row9 col1\" >2</td>\n",
              "    </tr>\n",
              "    <tr>\n",
              "      <th id=\"T_904fb_level0_row10\" class=\"row_heading level0 row10\" >10</th>\n",
              "      <td id=\"T_904fb_row10_col0\" class=\"data row10 col0\" >Rows with missing values</td>\n",
              "      <td id=\"T_904fb_row10_col1\" class=\"data row10 col1\" >0.6%</td>\n",
              "    </tr>\n",
              "    <tr>\n",
              "      <th id=\"T_904fb_level0_row11\" class=\"row_heading level0 row11\" >11</th>\n",
              "      <td id=\"T_904fb_row11_col0\" class=\"data row11 col0\" >Preprocess</td>\n",
              "      <td id=\"T_904fb_row11_col1\" class=\"data row11 col1\" >True</td>\n",
              "    </tr>\n",
              "    <tr>\n",
              "      <th id=\"T_904fb_level0_row12\" class=\"row_heading level0 row12\" >12</th>\n",
              "      <td id=\"T_904fb_row12_col0\" class=\"data row12 col0\" >Imputation type</td>\n",
              "      <td id=\"T_904fb_row12_col1\" class=\"data row12 col1\" >simple</td>\n",
              "    </tr>\n",
              "    <tr>\n",
              "      <th id=\"T_904fb_level0_row13\" class=\"row_heading level0 row13\" >13</th>\n",
              "      <td id=\"T_904fb_row13_col0\" class=\"data row13 col0\" >Numeric imputation</td>\n",
              "      <td id=\"T_904fb_row13_col1\" class=\"data row13 col1\" >mean</td>\n",
              "    </tr>\n",
              "    <tr>\n",
              "      <th id=\"T_904fb_level0_row14\" class=\"row_heading level0 row14\" >14</th>\n",
              "      <td id=\"T_904fb_row14_col0\" class=\"data row14 col0\" >Categorical imputation</td>\n",
              "      <td id=\"T_904fb_row14_col1\" class=\"data row14 col1\" >mode</td>\n",
              "    </tr>\n",
              "    <tr>\n",
              "      <th id=\"T_904fb_level0_row15\" class=\"row_heading level0 row15\" >15</th>\n",
              "      <td id=\"T_904fb_row15_col0\" class=\"data row15 col0\" >Maximum one-hot encoding</td>\n",
              "      <td id=\"T_904fb_row15_col1\" class=\"data row15 col1\" >25</td>\n",
              "    </tr>\n",
              "    <tr>\n",
              "      <th id=\"T_904fb_level0_row16\" class=\"row_heading level0 row16\" >16</th>\n",
              "      <td id=\"T_904fb_row16_col0\" class=\"data row16 col0\" >Encoding method</td>\n",
              "      <td id=\"T_904fb_row16_col1\" class=\"data row16 col1\" >None</td>\n",
              "    </tr>\n",
              "    <tr>\n",
              "      <th id=\"T_904fb_level0_row17\" class=\"row_heading level0 row17\" >17</th>\n",
              "      <td id=\"T_904fb_row17_col0\" class=\"data row17 col0\" >Fold Generator</td>\n",
              "      <td id=\"T_904fb_row17_col1\" class=\"data row17 col1\" >StratifiedKFold</td>\n",
              "    </tr>\n",
              "    <tr>\n",
              "      <th id=\"T_904fb_level0_row18\" class=\"row_heading level0 row18\" >18</th>\n",
              "      <td id=\"T_904fb_row18_col0\" class=\"data row18 col0\" >Fold Number</td>\n",
              "      <td id=\"T_904fb_row18_col1\" class=\"data row18 col1\" >10</td>\n",
              "    </tr>\n",
              "    <tr>\n",
              "      <th id=\"T_904fb_level0_row19\" class=\"row_heading level0 row19\" >19</th>\n",
              "      <td id=\"T_904fb_row19_col0\" class=\"data row19 col0\" >CPU Jobs</td>\n",
              "      <td id=\"T_904fb_row19_col1\" class=\"data row19 col1\" >-1</td>\n",
              "    </tr>\n",
              "    <tr>\n",
              "      <th id=\"T_904fb_level0_row20\" class=\"row_heading level0 row20\" >20</th>\n",
              "      <td id=\"T_904fb_row20_col0\" class=\"data row20 col0\" >Use GPU</td>\n",
              "      <td id=\"T_904fb_row20_col1\" class=\"data row20 col1\" >True</td>\n",
              "    </tr>\n",
              "    <tr>\n",
              "      <th id=\"T_904fb_level0_row21\" class=\"row_heading level0 row21\" >21</th>\n",
              "      <td id=\"T_904fb_row21_col0\" class=\"data row21 col0\" >Log Experiment</td>\n",
              "      <td id=\"T_904fb_row21_col1\" class=\"data row21 col1\" >False</td>\n",
              "    </tr>\n",
              "    <tr>\n",
              "      <th id=\"T_904fb_level0_row22\" class=\"row_heading level0 row22\" >22</th>\n",
              "      <td id=\"T_904fb_row22_col0\" class=\"data row22 col0\" >Experiment Name</td>\n",
              "      <td id=\"T_904fb_row22_col1\" class=\"data row22 col1\" >clf-default-name</td>\n",
              "    </tr>\n",
              "    <tr>\n",
              "      <th id=\"T_904fb_level0_row23\" class=\"row_heading level0 row23\" >23</th>\n",
              "      <td id=\"T_904fb_row23_col0\" class=\"data row23 col0\" >USI</td>\n",
              "      <td id=\"T_904fb_row23_col1\" class=\"data row23 col1\" >8738</td>\n",
              "    </tr>\n",
              "  </tbody>\n",
              "</table>\n"
            ]
          },
          "metadata": {}
        }
      ]
    },
    {
      "cell_type": "code",
      "source": [
        "best_model = compare_models(sort='AUC', verbose=True, turbo=True)\n"
      ],
      "metadata": {
        "colab": {
          "base_uri": "https://localhost:8080/",
          "height": 488,
          "referenced_widgets": [
            "4caf2bdd92bd4b0d8f1df94a5c6d3a6e",
            "03c735eb9db544978d5de3741b8da40c",
            "32fec01c42b3476b96a834f82eac230d",
            "79afdc0fac9a4ea0ac1240026a5e7d08",
            "055c3387ddbf469ea6ed476b7bd4152b",
            "897ce9fe093e4b38b4b49bd92e6bc839",
            "2bad9c0e6ed94a9095378f4a849ab702",
            "cf27c26891624db594c31deaabb25682",
            "566ec889d39f4c4a8a3547f76023f85c",
            "1865b01cc0854ab89d890d924a9ef6ba",
            "962144b49e134ebeb61716c123f0a94d"
          ]
        },
        "id": "toL5kIKf3QqY",
        "outputId": "5996314c-288d-44a8-f430-4b400544edb3"
      },
      "execution_count": null,
      "outputs": [
        {
          "output_type": "display_data",
          "data": {
            "text/plain": [
              "<IPython.core.display.HTML object>"
            ],
            "text/html": []
          },
          "metadata": {}
        },
        {
          "output_type": "display_data",
          "data": {
            "text/plain": [
              "<pandas.io.formats.style.Styler at 0x7f752cf506a0>"
            ],
            "text/html": [
              "<style type=\"text/css\">\n",
              "#T_cf59b th {\n",
              "  text-align: left;\n",
              "}\n",
              "#T_cf59b_row0_col0, #T_cf59b_row0_col3, #T_cf59b_row0_col4, #T_cf59b_row1_col0, #T_cf59b_row1_col1, #T_cf59b_row1_col2, #T_cf59b_row1_col3, #T_cf59b_row1_col4, #T_cf59b_row1_col5, #T_cf59b_row1_col6, #T_cf59b_row1_col7, #T_cf59b_row2_col0, #T_cf59b_row2_col1, #T_cf59b_row2_col2, #T_cf59b_row2_col3, #T_cf59b_row2_col4, #T_cf59b_row2_col5, #T_cf59b_row2_col6, #T_cf59b_row2_col7, #T_cf59b_row3_col0, #T_cf59b_row3_col1, #T_cf59b_row3_col2, #T_cf59b_row3_col3, #T_cf59b_row3_col4, #T_cf59b_row3_col5, #T_cf59b_row3_col6, #T_cf59b_row3_col7, #T_cf59b_row4_col0, #T_cf59b_row4_col1, #T_cf59b_row4_col2, #T_cf59b_row4_col3, #T_cf59b_row4_col4, #T_cf59b_row4_col5, #T_cf59b_row4_col6, #T_cf59b_row4_col7, #T_cf59b_row5_col0, #T_cf59b_row5_col1, #T_cf59b_row5_col2, #T_cf59b_row5_col3, #T_cf59b_row5_col4, #T_cf59b_row5_col5, #T_cf59b_row5_col6, #T_cf59b_row5_col7, #T_cf59b_row6_col0, #T_cf59b_row6_col1, #T_cf59b_row6_col2, #T_cf59b_row6_col3, #T_cf59b_row6_col4, #T_cf59b_row6_col5, #T_cf59b_row6_col6, #T_cf59b_row6_col7, #T_cf59b_row7_col0, #T_cf59b_row7_col1, #T_cf59b_row7_col2, #T_cf59b_row7_col3, #T_cf59b_row7_col4, #T_cf59b_row7_col5, #T_cf59b_row7_col6, #T_cf59b_row7_col7, #T_cf59b_row8_col0, #T_cf59b_row8_col1, #T_cf59b_row8_col2, #T_cf59b_row8_col3, #T_cf59b_row8_col4, #T_cf59b_row8_col5, #T_cf59b_row8_col6, #T_cf59b_row8_col7, #T_cf59b_row9_col0, #T_cf59b_row9_col1, #T_cf59b_row9_col2, #T_cf59b_row9_col3, #T_cf59b_row9_col4, #T_cf59b_row9_col5, #T_cf59b_row9_col6, #T_cf59b_row9_col7, #T_cf59b_row10_col0, #T_cf59b_row10_col1, #T_cf59b_row10_col2, #T_cf59b_row10_col4, #T_cf59b_row10_col5, #T_cf59b_row10_col6, #T_cf59b_row10_col7, #T_cf59b_row11_col0, #T_cf59b_row11_col1, #T_cf59b_row11_col2, #T_cf59b_row11_col3, #T_cf59b_row11_col4, #T_cf59b_row11_col5, #T_cf59b_row11_col6, #T_cf59b_row11_col7, #T_cf59b_row12_col0, #T_cf59b_row12_col1, #T_cf59b_row12_col2, #T_cf59b_row12_col3, #T_cf59b_row12_col5, #T_cf59b_row12_col6, #T_cf59b_row12_col7, #T_cf59b_row13_col0, #T_cf59b_row13_col1, #T_cf59b_row13_col2, #T_cf59b_row13_col3, #T_cf59b_row13_col4, #T_cf59b_row13_col5, #T_cf59b_row13_col6, #T_cf59b_row13_col7 {\n",
              "  text-align: left;\n",
              "}\n",
              "#T_cf59b_row0_col1, #T_cf59b_row0_col2, #T_cf59b_row0_col5, #T_cf59b_row0_col6, #T_cf59b_row0_col7, #T_cf59b_row10_col3, #T_cf59b_row12_col4 {\n",
              "  text-align: left;\n",
              "  background-color: yellow;\n",
              "}\n",
              "#T_cf59b_row0_col8, #T_cf59b_row1_col8, #T_cf59b_row2_col8, #T_cf59b_row3_col8, #T_cf59b_row4_col8, #T_cf59b_row5_col8, #T_cf59b_row6_col8, #T_cf59b_row7_col8, #T_cf59b_row8_col8, #T_cf59b_row9_col8, #T_cf59b_row10_col8, #T_cf59b_row11_col8, #T_cf59b_row12_col8 {\n",
              "  text-align: left;\n",
              "  background-color: lightgrey;\n",
              "}\n",
              "#T_cf59b_row13_col8 {\n",
              "  text-align: left;\n",
              "  background-color: yellow;\n",
              "  background-color: lightgrey;\n",
              "}\n",
              "</style>\n",
              "<table id=\"T_cf59b\" class=\"dataframe\">\n",
              "  <thead>\n",
              "    <tr>\n",
              "      <th class=\"blank level0\" >&nbsp;</th>\n",
              "      <th id=\"T_cf59b_level0_col0\" class=\"col_heading level0 col0\" >Model</th>\n",
              "      <th id=\"T_cf59b_level0_col1\" class=\"col_heading level0 col1\" >Accuracy</th>\n",
              "      <th id=\"T_cf59b_level0_col2\" class=\"col_heading level0 col2\" >AUC</th>\n",
              "      <th id=\"T_cf59b_level0_col3\" class=\"col_heading level0 col3\" >Recall</th>\n",
              "      <th id=\"T_cf59b_level0_col4\" class=\"col_heading level0 col4\" >Prec.</th>\n",
              "      <th id=\"T_cf59b_level0_col5\" class=\"col_heading level0 col5\" >F1</th>\n",
              "      <th id=\"T_cf59b_level0_col6\" class=\"col_heading level0 col6\" >Kappa</th>\n",
              "      <th id=\"T_cf59b_level0_col7\" class=\"col_heading level0 col7\" >MCC</th>\n",
              "      <th id=\"T_cf59b_level0_col8\" class=\"col_heading level0 col8\" >TT (Sec)</th>\n",
              "    </tr>\n",
              "  </thead>\n",
              "  <tbody>\n",
              "    <tr>\n",
              "      <th id=\"T_cf59b_level0_row0\" class=\"row_heading level0 row0\" >lightgbm</th>\n",
              "      <td id=\"T_cf59b_row0_col0\" class=\"data row0 col0\" >Light Gradient Boosting Machine</td>\n",
              "      <td id=\"T_cf59b_row0_col1\" class=\"data row0 col1\" >0.9360</td>\n",
              "      <td id=\"T_cf59b_row0_col2\" class=\"data row0 col2\" >0.9488</td>\n",
              "      <td id=\"T_cf59b_row0_col3\" class=\"data row0 col3\" >0.5711</td>\n",
              "      <td id=\"T_cf59b_row0_col4\" class=\"data row0 col4\" >0.6566</td>\n",
              "      <td id=\"T_cf59b_row0_col5\" class=\"data row0 col5\" >0.6108</td>\n",
              "      <td id=\"T_cf59b_row0_col6\" class=\"data row0 col6\" >0.5761</td>\n",
              "      <td id=\"T_cf59b_row0_col7\" class=\"data row0 col7\" >0.5778</td>\n",
              "      <td id=\"T_cf59b_row0_col8\" class=\"data row0 col8\" >2.8720</td>\n",
              "    </tr>\n",
              "    <tr>\n",
              "      <th id=\"T_cf59b_level0_row1\" class=\"row_heading level0 row1\" >gbc</th>\n",
              "      <td id=\"T_cf59b_row1_col0\" class=\"data row1 col0\" >Gradient Boosting Classifier</td>\n",
              "      <td id=\"T_cf59b_row1_col1\" class=\"data row1 col1\" >0.9356</td>\n",
              "      <td id=\"T_cf59b_row1_col2\" class=\"data row1 col2\" >0.9473</td>\n",
              "      <td id=\"T_cf59b_row1_col3\" class=\"data row1 col3\" >0.5745</td>\n",
              "      <td id=\"T_cf59b_row1_col4\" class=\"data row1 col4\" >0.6520</td>\n",
              "      <td id=\"T_cf59b_row1_col5\" class=\"data row1 col5\" >0.6107</td>\n",
              "      <td id=\"T_cf59b_row1_col6\" class=\"data row1 col6\" >0.5758</td>\n",
              "      <td id=\"T_cf59b_row1_col7\" class=\"data row1 col7\" >0.5772</td>\n",
              "      <td id=\"T_cf59b_row1_col8\" class=\"data row1 col8\" >23.8120</td>\n",
              "    </tr>\n",
              "    <tr>\n",
              "      <th id=\"T_cf59b_level0_row2\" class=\"row_heading level0 row2\" >ada</th>\n",
              "      <td id=\"T_cf59b_row2_col0\" class=\"data row2 col0\" >Ada Boost Classifier</td>\n",
              "      <td id=\"T_cf59b_row2_col1\" class=\"data row2 col1\" >0.9317</td>\n",
              "      <td id=\"T_cf59b_row2_col2\" class=\"data row2 col2\" >0.9427</td>\n",
              "      <td id=\"T_cf59b_row2_col3\" class=\"data row2 col3\" >0.5157</td>\n",
              "      <td id=\"T_cf59b_row2_col4\" class=\"data row2 col4\" >0.6382</td>\n",
              "      <td id=\"T_cf59b_row2_col5\" class=\"data row2 col5\" >0.5704</td>\n",
              "      <td id=\"T_cf59b_row2_col6\" class=\"data row2 col6\" >0.5337</td>\n",
              "      <td id=\"T_cf59b_row2_col7\" class=\"data row2 col7\" >0.5374</td>\n",
              "      <td id=\"T_cf59b_row2_col8\" class=\"data row2 col8\" >7.0120</td>\n",
              "    </tr>\n",
              "    <tr>\n",
              "      <th id=\"T_cf59b_level0_row3\" class=\"row_heading level0 row3\" >lda</th>\n",
              "      <td id=\"T_cf59b_row3_col0\" class=\"data row3 col0\" >Linear Discriminant Analysis</td>\n",
              "      <td id=\"T_cf59b_row3_col1\" class=\"data row3 col1\" >0.9318</td>\n",
              "      <td id=\"T_cf59b_row3_col2\" class=\"data row3 col2\" >0.9375</td>\n",
              "      <td id=\"T_cf59b_row3_col3\" class=\"data row3 col3\" >0.5660</td>\n",
              "      <td id=\"T_cf59b_row3_col4\" class=\"data row3 col4\" >0.6233</td>\n",
              "      <td id=\"T_cf59b_row3_col5\" class=\"data row3 col5\" >0.5933</td>\n",
              "      <td id=\"T_cf59b_row3_col6\" class=\"data row3 col6\" >0.5561</td>\n",
              "      <td id=\"T_cf59b_row3_col7\" class=\"data row3 col7\" >0.5569</td>\n",
              "      <td id=\"T_cf59b_row3_col8\" class=\"data row3 col8\" >1.1760</td>\n",
              "    </tr>\n",
              "    <tr>\n",
              "      <th id=\"T_cf59b_level0_row4\" class=\"row_heading level0 row4\" >rf</th>\n",
              "      <td id=\"T_cf59b_row4_col0\" class=\"data row4 col0\" >Random Forest Classifier</td>\n",
              "      <td id=\"T_cf59b_row4_col1\" class=\"data row4 col1\" >0.9303</td>\n",
              "      <td id=\"T_cf59b_row4_col2\" class=\"data row4 col2\" >0.9374</td>\n",
              "      <td id=\"T_cf59b_row4_col3\" class=\"data row4 col3\" >0.5398</td>\n",
              "      <td id=\"T_cf59b_row4_col4\" class=\"data row4 col4\" >0.6191</td>\n",
              "      <td id=\"T_cf59b_row4_col5\" class=\"data row4 col5\" >0.5767</td>\n",
              "      <td id=\"T_cf59b_row4_col6\" class=\"data row4 col6\" >0.5389</td>\n",
              "      <td id=\"T_cf59b_row4_col7\" class=\"data row4 col7\" >0.5404</td>\n",
              "      <td id=\"T_cf59b_row4_col8\" class=\"data row4 col8\" >33.6690</td>\n",
              "    </tr>\n",
              "    <tr>\n",
              "      <th id=\"T_cf59b_level0_row5\" class=\"row_heading level0 row5\" >et</th>\n",
              "      <td id=\"T_cf59b_row5_col0\" class=\"data row5 col0\" >Extra Trees Classifier</td>\n",
              "      <td id=\"T_cf59b_row5_col1\" class=\"data row5 col1\" >0.9263</td>\n",
              "      <td id=\"T_cf59b_row5_col2\" class=\"data row5 col2\" >0.9189</td>\n",
              "      <td id=\"T_cf59b_row5_col3\" class=\"data row5 col3\" >0.5182</td>\n",
              "      <td id=\"T_cf59b_row5_col4\" class=\"data row5 col4\" >0.5928</td>\n",
              "      <td id=\"T_cf59b_row5_col5\" class=\"data row5 col5\" >0.5529</td>\n",
              "      <td id=\"T_cf59b_row5_col6\" class=\"data row5 col6\" >0.5130</td>\n",
              "      <td id=\"T_cf59b_row5_col7\" class=\"data row5 col7\" >0.5144</td>\n",
              "      <td id=\"T_cf59b_row5_col8\" class=\"data row5 col8\" >20.9110</td>\n",
              "    </tr>\n",
              "    <tr>\n",
              "      <th id=\"T_cf59b_level0_row6\" class=\"row_heading level0 row6\" >nb</th>\n",
              "      <td id=\"T_cf59b_row6_col0\" class=\"data row6 col0\" >Naive Bayes</td>\n",
              "      <td id=\"T_cf59b_row6_col1\" class=\"data row6 col1\" >0.9121</td>\n",
              "      <td id=\"T_cf59b_row6_col2\" class=\"data row6 col2\" >0.8422</td>\n",
              "      <td id=\"T_cf59b_row6_col3\" class=\"data row6 col3\" >0.0000</td>\n",
              "      <td id=\"T_cf59b_row6_col4\" class=\"data row6 col4\" >0.0000</td>\n",
              "      <td id=\"T_cf59b_row6_col5\" class=\"data row6 col5\" >0.0000</td>\n",
              "      <td id=\"T_cf59b_row6_col6\" class=\"data row6 col6\" >0.0000</td>\n",
              "      <td id=\"T_cf59b_row6_col7\" class=\"data row6 col7\" >0.0000</td>\n",
              "      <td id=\"T_cf59b_row6_col8\" class=\"data row6 col8\" >0.8280</td>\n",
              "    </tr>\n",
              "    <tr>\n",
              "      <th id=\"T_cf59b_level0_row7\" class=\"row_heading level0 row7\" >lr</th>\n",
              "      <td id=\"T_cf59b_row7_col0\" class=\"data row7 col0\" >Logistic Regression</td>\n",
              "      <td id=\"T_cf59b_row7_col1\" class=\"data row7 col1\" >0.9180</td>\n",
              "      <td id=\"T_cf59b_row7_col2\" class=\"data row7 col2\" >0.8305</td>\n",
              "      <td id=\"T_cf59b_row7_col3\" class=\"data row7 col3\" >0.4211</td>\n",
              "      <td id=\"T_cf59b_row7_col4\" class=\"data row7 col4\" >0.4533</td>\n",
              "      <td id=\"T_cf59b_row7_col5\" class=\"data row7 col5\" >0.4237</td>\n",
              "      <td id=\"T_cf59b_row7_col6\" class=\"data row7 col6\" >0.3896</td>\n",
              "      <td id=\"T_cf59b_row7_col7\" class=\"data row7 col7\" >0.3968</td>\n",
              "      <td id=\"T_cf59b_row7_col8\" class=\"data row7 col8\" >3.1120</td>\n",
              "    </tr>\n",
              "    <tr>\n",
              "      <th id=\"T_cf59b_level0_row8\" class=\"row_heading level0 row8\" >dt</th>\n",
              "      <td id=\"T_cf59b_row8_col0\" class=\"data row8 col0\" >Decision Tree Classifier</td>\n",
              "      <td id=\"T_cf59b_row8_col1\" class=\"data row8 col1\" >0.9162</td>\n",
              "      <td id=\"T_cf59b_row8_col2\" class=\"data row8 col2\" >0.7283</td>\n",
              "      <td id=\"T_cf59b_row8_col3\" class=\"data row8 col3\" >0.4956</td>\n",
              "      <td id=\"T_cf59b_row8_col4\" class=\"data row8 col4\" >0.5253</td>\n",
              "      <td id=\"T_cf59b_row8_col5\" class=\"data row8 col5\" >0.5100</td>\n",
              "      <td id=\"T_cf59b_row8_col6\" class=\"data row8 col6\" >0.4642</td>\n",
              "      <td id=\"T_cf59b_row8_col7\" class=\"data row8 col7\" >0.4645</td>\n",
              "      <td id=\"T_cf59b_row8_col8\" class=\"data row8 col8\" >2.1070</td>\n",
              "    </tr>\n",
              "    <tr>\n",
              "      <th id=\"T_cf59b_level0_row9\" class=\"row_heading level0 row9\" >knn</th>\n",
              "      <td id=\"T_cf59b_row9_col0\" class=\"data row9 col0\" >K Neighbors Classifier</td>\n",
              "      <td id=\"T_cf59b_row9_col1\" class=\"data row9 col1\" >0.9148</td>\n",
              "      <td id=\"T_cf59b_row9_col2\" class=\"data row9 col2\" >0.6945</td>\n",
              "      <td id=\"T_cf59b_row9_col3\" class=\"data row9 col3\" >0.1474</td>\n",
              "      <td id=\"T_cf59b_row9_col4\" class=\"data row9 col4\" >0.5580</td>\n",
              "      <td id=\"T_cf59b_row9_col5\" class=\"data row9 col5\" >0.2332</td>\n",
              "      <td id=\"T_cf59b_row9_col6\" class=\"data row9 col6\" >0.2039</td>\n",
              "      <td id=\"T_cf59b_row9_col7\" class=\"data row9 col7\" >0.2559</td>\n",
              "      <td id=\"T_cf59b_row9_col8\" class=\"data row9 col8\" >2.7500</td>\n",
              "    </tr>\n",
              "    <tr>\n",
              "      <th id=\"T_cf59b_level0_row10\" class=\"row_heading level0 row10\" >qda</th>\n",
              "      <td id=\"T_cf59b_row10_col0\" class=\"data row10 col0\" >Quadratic Discriminant Analysis</td>\n",
              "      <td id=\"T_cf59b_row10_col1\" class=\"data row10 col1\" >0.3410</td>\n",
              "      <td id=\"T_cf59b_row10_col2\" class=\"data row10 col2\" >0.5712</td>\n",
              "      <td id=\"T_cf59b_row10_col3\" class=\"data row10 col3\" >0.8429</td>\n",
              "      <td id=\"T_cf59b_row10_col4\" class=\"data row10 col4\" >0.1473</td>\n",
              "      <td id=\"T_cf59b_row10_col5\" class=\"data row10 col5\" >0.1992</td>\n",
              "      <td id=\"T_cf59b_row10_col6\" class=\"data row10 col6\" >0.0655</td>\n",
              "      <td id=\"T_cf59b_row10_col7\" class=\"data row10 col7\" >0.1051</td>\n",
              "      <td id=\"T_cf59b_row10_col8\" class=\"data row10 col8\" >0.8560</td>\n",
              "    </tr>\n",
              "    <tr>\n",
              "      <th id=\"T_cf59b_level0_row11\" class=\"row_heading level0 row11\" >dummy</th>\n",
              "      <td id=\"T_cf59b_row11_col0\" class=\"data row11 col0\" >Dummy Classifier</td>\n",
              "      <td id=\"T_cf59b_row11_col1\" class=\"data row11 col1\" >0.9121</td>\n",
              "      <td id=\"T_cf59b_row11_col2\" class=\"data row11 col2\" >0.5000</td>\n",
              "      <td id=\"T_cf59b_row11_col3\" class=\"data row11 col3\" >0.0000</td>\n",
              "      <td id=\"T_cf59b_row11_col4\" class=\"data row11 col4\" >0.0000</td>\n",
              "      <td id=\"T_cf59b_row11_col5\" class=\"data row11 col5\" >0.0000</td>\n",
              "      <td id=\"T_cf59b_row11_col6\" class=\"data row11 col6\" >0.0000</td>\n",
              "      <td id=\"T_cf59b_row11_col7\" class=\"data row11 col7\" >0.0000</td>\n",
              "      <td id=\"T_cf59b_row11_col8\" class=\"data row11 col8\" >0.7200</td>\n",
              "    </tr>\n",
              "    <tr>\n",
              "      <th id=\"T_cf59b_level0_row12\" class=\"row_heading level0 row12\" >svm</th>\n",
              "      <td id=\"T_cf59b_row12_col0\" class=\"data row12 col0\" >SVM - Linear Kernel</td>\n",
              "      <td id=\"T_cf59b_row12_col1\" class=\"data row12 col1\" >0.9161</td>\n",
              "      <td id=\"T_cf59b_row12_col2\" class=\"data row12 col2\" >0.0000</td>\n",
              "      <td id=\"T_cf59b_row12_col3\" class=\"data row12 col3\" >0.0755</td>\n",
              "      <td id=\"T_cf59b_row12_col4\" class=\"data row12 col4\" >0.8170</td>\n",
              "      <td id=\"T_cf59b_row12_col5\" class=\"data row12 col5\" >0.1278</td>\n",
              "      <td id=\"T_cf59b_row12_col6\" class=\"data row12 col6\" >0.1152</td>\n",
              "      <td id=\"T_cf59b_row12_col7\" class=\"data row12 col7\" >0.2016</td>\n",
              "      <td id=\"T_cf59b_row12_col8\" class=\"data row12 col8\" >2.0060</td>\n",
              "    </tr>\n",
              "    <tr>\n",
              "      <th id=\"T_cf59b_level0_row13\" class=\"row_heading level0 row13\" >ridge</th>\n",
              "      <td id=\"T_cf59b_row13_col0\" class=\"data row13 col0\" >Ridge Classifier</td>\n",
              "      <td id=\"T_cf59b_row13_col1\" class=\"data row13 col1\" >0.9296</td>\n",
              "      <td id=\"T_cf59b_row13_col2\" class=\"data row13 col2\" >0.0000</td>\n",
              "      <td id=\"T_cf59b_row13_col3\" class=\"data row13 col3\" >0.4290</td>\n",
              "      <td id=\"T_cf59b_row13_col4\" class=\"data row13 col4\" >0.6516</td>\n",
              "      <td id=\"T_cf59b_row13_col5\" class=\"data row13 col5\" >0.5173</td>\n",
              "      <td id=\"T_cf59b_row13_col6\" class=\"data row13 col6\" >0.4811</td>\n",
              "      <td id=\"T_cf59b_row13_col7\" class=\"data row13 col7\" >0.4934</td>\n",
              "      <td id=\"T_cf59b_row13_col8\" class=\"data row13 col8\" >0.6490</td>\n",
              "    </tr>\n",
              "  </tbody>\n",
              "</table>\n"
            ]
          },
          "metadata": {}
        },
        {
          "output_type": "display_data",
          "data": {
            "text/plain": [
              "Processing:   0%|          | 0/65 [00:00<?, ?it/s]"
            ],
            "application/vnd.jupyter.widget-view+json": {
              "version_major": 2,
              "version_minor": 0,
              "model_id": "4caf2bdd92bd4b0d8f1df94a5c6d3a6e"
            }
          },
          "metadata": {
            "application/vnd.jupyter.widget-view+json": {
              "colab": {
                "custom_widget_manager": {
                  "url": "https://ssl.gstatic.com/colaboratory-static/widgets/colab-cdn-widget-manager/b3e629b1971e1542/manager.min.js"
                }
              }
            }
          }
        },
        {
          "output_type": "display_data",
          "data": {
            "text/plain": [
              "<IPython.core.display.HTML object>"
            ],
            "text/html": []
          },
          "metadata": {}
        }
      ]
    },
    {
      "cell_type": "code",
      "source": [
        "print(best_model)\n"
      ],
      "metadata": {
        "id": "pv8jJ8GW3zjQ"
      },
      "execution_count": null,
      "outputs": []
    },
    {
      "cell_type": "code",
      "source": [
        "tuned_best_model = tune_model(best_model)\n"
      ],
      "metadata": {
        "colab": {
          "base_uri": "https://localhost:8080/",
          "height": 474,
          "referenced_widgets": [
            "89ce0f04e04c4c6892df40c02ad63ff7",
            "d9e5ac8b875842098f6eaf91f88c0103",
            "b578a08a82fe446ba3ecd828f84ae907",
            "a686277e4f8041129086c86306bb1f4b",
            "66e3d94403b84ef4ac15aed62cdf59db",
            "918c1d52a45f48f68e0eb1bb8a38bb1a",
            "445bc853498b41958714cbebbcd81855",
            "65392bdc83f84dbf945cd6fb0fd75911",
            "23090d4203ec40a28e2d5134d9948e48",
            "b8187337f4014279811eb66d38e3e81d",
            "5cb313b0d6bb45118c486ae63a38371b"
          ]
        },
        "id": "dbkVkLy99Qa_",
        "outputId": "3ae17089-dd1e-4377-90c0-041854d78394"
      },
      "execution_count": null,
      "outputs": [
        {
          "output_type": "display_data",
          "data": {
            "text/plain": [
              "<IPython.core.display.HTML object>"
            ],
            "text/html": []
          },
          "metadata": {}
        },
        {
          "output_type": "display_data",
          "data": {
            "text/plain": [
              "<pandas.io.formats.style.Styler at 0x7f74e13ffc70>"
            ],
            "text/html": [
              "<style type=\"text/css\">\n",
              "#T_0690a_row10_col0, #T_0690a_row10_col1, #T_0690a_row10_col2, #T_0690a_row10_col3, #T_0690a_row10_col4, #T_0690a_row10_col5, #T_0690a_row10_col6 {\n",
              "  background: yellow;\n",
              "}\n",
              "</style>\n",
              "<table id=\"T_0690a\" class=\"dataframe\">\n",
              "  <thead>\n",
              "    <tr>\n",
              "      <th class=\"blank level0\" >&nbsp;</th>\n",
              "      <th id=\"T_0690a_level0_col0\" class=\"col_heading level0 col0\" >Accuracy</th>\n",
              "      <th id=\"T_0690a_level0_col1\" class=\"col_heading level0 col1\" >AUC</th>\n",
              "      <th id=\"T_0690a_level0_col2\" class=\"col_heading level0 col2\" >Recall</th>\n",
              "      <th id=\"T_0690a_level0_col3\" class=\"col_heading level0 col3\" >Prec.</th>\n",
              "      <th id=\"T_0690a_level0_col4\" class=\"col_heading level0 col4\" >F1</th>\n",
              "      <th id=\"T_0690a_level0_col5\" class=\"col_heading level0 col5\" >Kappa</th>\n",
              "      <th id=\"T_0690a_level0_col6\" class=\"col_heading level0 col6\" >MCC</th>\n",
              "    </tr>\n",
              "    <tr>\n",
              "      <th class=\"index_name level0\" >Fold</th>\n",
              "      <th class=\"blank col0\" >&nbsp;</th>\n",
              "      <th class=\"blank col1\" >&nbsp;</th>\n",
              "      <th class=\"blank col2\" >&nbsp;</th>\n",
              "      <th class=\"blank col3\" >&nbsp;</th>\n",
              "      <th class=\"blank col4\" >&nbsp;</th>\n",
              "      <th class=\"blank col5\" >&nbsp;</th>\n",
              "      <th class=\"blank col6\" >&nbsp;</th>\n",
              "    </tr>\n",
              "  </thead>\n",
              "  <tbody>\n",
              "    <tr>\n",
              "      <th id=\"T_0690a_level0_row0\" class=\"row_heading level0 row0\" >0</th>\n",
              "      <td id=\"T_0690a_row0_col0\" class=\"data row0 col0\" >0.9386</td>\n",
              "      <td id=\"T_0690a_row0_col1\" class=\"data row0 col1\" >0.9502</td>\n",
              "      <td id=\"T_0690a_row0_col2\" class=\"data row0 col2\" >0.5714</td>\n",
              "      <td id=\"T_0690a_row0_col3\" class=\"data row0 col3\" >0.6788</td>\n",
              "      <td id=\"T_0690a_row0_col4\" class=\"data row0 col4\" >0.6205</td>\n",
              "      <td id=\"T_0690a_row0_col5\" class=\"data row0 col5\" >0.5874</td>\n",
              "      <td id=\"T_0690a_row0_col6\" class=\"data row0 col6\" >0.5899</td>\n",
              "    </tr>\n",
              "    <tr>\n",
              "      <th id=\"T_0690a_level0_row1\" class=\"row_heading level0 row1\" >1</th>\n",
              "      <td id=\"T_0690a_row1_col0\" class=\"data row1 col0\" >0.9346</td>\n",
              "      <td id=\"T_0690a_row1_col1\" class=\"data row1 col1\" >0.9489</td>\n",
              "      <td id=\"T_0690a_row1_col2\" class=\"data row1 col2\" >0.5680</td>\n",
              "      <td id=\"T_0690a_row1_col3\" class=\"data row1 col3\" >0.6460</td>\n",
              "      <td id=\"T_0690a_row1_col4\" class=\"data row1 col4\" >0.6045</td>\n",
              "      <td id=\"T_0690a_row1_col5\" class=\"data row1 col5\" >0.5690</td>\n",
              "      <td id=\"T_0690a_row1_col6\" class=\"data row1 col6\" >0.5704</td>\n",
              "    </tr>\n",
              "    <tr>\n",
              "      <th id=\"T_0690a_level0_row2\" class=\"row_heading level0 row2\" >2</th>\n",
              "      <td id=\"T_0690a_row2_col0\" class=\"data row2 col0\" >0.9378</td>\n",
              "      <td id=\"T_0690a_row2_col1\" class=\"data row2 col1\" >0.9475</td>\n",
              "      <td id=\"T_0690a_row2_col2\" class=\"data row2 col2\" >0.5748</td>\n",
              "      <td id=\"T_0690a_row2_col3\" class=\"data row2 col3\" >0.6707</td>\n",
              "      <td id=\"T_0690a_row2_col4\" class=\"data row2 col4\" >0.6191</td>\n",
              "      <td id=\"T_0690a_row2_col5\" class=\"data row2 col5\" >0.5854</td>\n",
              "      <td id=\"T_0690a_row2_col6\" class=\"data row2 col6\" >0.5875</td>\n",
              "    </tr>\n",
              "    <tr>\n",
              "      <th id=\"T_0690a_level0_row3\" class=\"row_heading level0 row3\" >3</th>\n",
              "      <td id=\"T_0690a_row3_col0\" class=\"data row3 col0\" >0.9339</td>\n",
              "      <td id=\"T_0690a_row3_col1\" class=\"data row3 col1\" >0.9477</td>\n",
              "      <td id=\"T_0690a_row3_col2\" class=\"data row3 col2\" >0.5646</td>\n",
              "      <td id=\"T_0690a_row3_col3\" class=\"data row3 col3\" >0.6408</td>\n",
              "      <td id=\"T_0690a_row3_col4\" class=\"data row3 col4\" >0.6003</td>\n",
              "      <td id=\"T_0690a_row3_col5\" class=\"data row3 col5\" >0.5644</td>\n",
              "      <td id=\"T_0690a_row3_col6\" class=\"data row3 col6\" >0.5658</td>\n",
              "    </tr>\n",
              "    <tr>\n",
              "      <th id=\"T_0690a_level0_row4\" class=\"row_heading level0 row4\" >4</th>\n",
              "      <td id=\"T_0690a_row4_col0\" class=\"data row4 col0\" >0.9368</td>\n",
              "      <td id=\"T_0690a_row4_col1\" class=\"data row4 col1\" >0.9481</td>\n",
              "      <td id=\"T_0690a_row4_col2\" class=\"data row4 col2\" >0.5743</td>\n",
              "      <td id=\"T_0690a_row4_col3\" class=\"data row4 col3\" >0.6621</td>\n",
              "      <td id=\"T_0690a_row4_col4\" class=\"data row4 col4\" >0.6151</td>\n",
              "      <td id=\"T_0690a_row4_col5\" class=\"data row4 col5\" >0.5808</td>\n",
              "      <td id=\"T_0690a_row4_col6\" class=\"data row4 col6\" >0.5826</td>\n",
              "    </tr>\n",
              "    <tr>\n",
              "      <th id=\"T_0690a_level0_row5\" class=\"row_heading level0 row5\" >5</th>\n",
              "      <td id=\"T_0690a_row5_col0\" class=\"data row5 col0\" >0.9344</td>\n",
              "      <td id=\"T_0690a_row5_col1\" class=\"data row5 col1\" >0.9473</td>\n",
              "      <td id=\"T_0690a_row5_col2\" class=\"data row5 col2\" >0.5589</td>\n",
              "      <td id=\"T_0690a_row5_col3\" class=\"data row5 col3\" >0.6473</td>\n",
              "      <td id=\"T_0690a_row5_col4\" class=\"data row5 col4\" >0.5999</td>\n",
              "      <td id=\"T_0690a_row5_col5\" class=\"data row5 col5\" >0.5644</td>\n",
              "      <td id=\"T_0690a_row5_col6\" class=\"data row5 col6\" >0.5662</td>\n",
              "    </tr>\n",
              "    <tr>\n",
              "      <th id=\"T_0690a_level0_row6\" class=\"row_heading level0 row6\" >6</th>\n",
              "      <td id=\"T_0690a_row6_col0\" class=\"data row6 col0\" >0.9331</td>\n",
              "      <td id=\"T_0690a_row6_col1\" class=\"data row6 col1\" >0.9475</td>\n",
              "      <td id=\"T_0690a_row6_col2\" class=\"data row6 col2\" >0.5464</td>\n",
              "      <td id=\"T_0690a_row6_col3\" class=\"data row6 col3\" >0.6404</td>\n",
              "      <td id=\"T_0690a_row6_col4\" class=\"data row6 col4\" >0.5897</td>\n",
              "      <td id=\"T_0690a_row6_col5\" class=\"data row6 col5\" >0.5535</td>\n",
              "      <td id=\"T_0690a_row6_col6\" class=\"data row6 col6\" >0.5556</td>\n",
              "    </tr>\n",
              "    <tr>\n",
              "      <th id=\"T_0690a_level0_row7\" class=\"row_heading level0 row7\" >7</th>\n",
              "      <td id=\"T_0690a_row7_col0\" class=\"data row7 col0\" >0.9374</td>\n",
              "      <td id=\"T_0690a_row7_col1\" class=\"data row7 col1\" >0.9476</td>\n",
              "      <td id=\"T_0690a_row7_col2\" class=\"data row7 col2\" >0.5618</td>\n",
              "      <td id=\"T_0690a_row7_col3\" class=\"data row7 col3\" >0.6728</td>\n",
              "      <td id=\"T_0690a_row7_col4\" class=\"data row7 col4\" >0.6123</td>\n",
              "      <td id=\"T_0690a_row7_col5\" class=\"data row7 col5\" >0.5786</td>\n",
              "      <td id=\"T_0690a_row7_col6\" class=\"data row7 col6\" >0.5813</td>\n",
              "    </tr>\n",
              "    <tr>\n",
              "      <th id=\"T_0690a_level0_row8\" class=\"row_heading level0 row8\" >8</th>\n",
              "      <td id=\"T_0690a_row8_col0\" class=\"data row8 col0\" >0.9378</td>\n",
              "      <td id=\"T_0690a_row8_col1\" class=\"data row8 col1\" >0.9503</td>\n",
              "      <td id=\"T_0690a_row8_col2\" class=\"data row8 col2\" >0.5783</td>\n",
              "      <td id=\"T_0690a_row8_col3\" class=\"data row8 col3\" >0.6693</td>\n",
              "      <td id=\"T_0690a_row8_col4\" class=\"data row8 col4\" >0.6205</td>\n",
              "      <td id=\"T_0690a_row8_col5\" class=\"data row8 col5\" >0.5868</td>\n",
              "      <td id=\"T_0690a_row8_col6\" class=\"data row8 col6\" >0.5886</td>\n",
              "    </tr>\n",
              "    <tr>\n",
              "      <th id=\"T_0690a_level0_row9\" class=\"row_heading level0 row9\" >9</th>\n",
              "      <td id=\"T_0690a_row9_col0\" class=\"data row9 col0\" >0.9363</td>\n",
              "      <td id=\"T_0690a_row9_col1\" class=\"data row9 col1\" >0.9531</td>\n",
              "      <td id=\"T_0690a_row9_col2\" class=\"data row9 col2\" >0.5785</td>\n",
              "      <td id=\"T_0690a_row9_col3\" class=\"data row9 col3\" >0.6570</td>\n",
              "      <td id=\"T_0690a_row9_col4\" class=\"data row9 col4\" >0.6152</td>\n",
              "      <td id=\"T_0690a_row9_col5\" class=\"data row9 col5\" >0.5807</td>\n",
              "      <td id=\"T_0690a_row9_col6\" class=\"data row9 col6\" >0.5821</td>\n",
              "    </tr>\n",
              "    <tr>\n",
              "      <th id=\"T_0690a_level0_row10\" class=\"row_heading level0 row10\" >Mean</th>\n",
              "      <td id=\"T_0690a_row10_col0\" class=\"data row10 col0\" >0.9361</td>\n",
              "      <td id=\"T_0690a_row10_col1\" class=\"data row10 col1\" >0.9488</td>\n",
              "      <td id=\"T_0690a_row10_col2\" class=\"data row10 col2\" >0.5677</td>\n",
              "      <td id=\"T_0690a_row10_col3\" class=\"data row10 col3\" >0.6585</td>\n",
              "      <td id=\"T_0690a_row10_col4\" class=\"data row10 col4\" >0.6097</td>\n",
              "      <td id=\"T_0690a_row10_col5\" class=\"data row10 col5\" >0.5751</td>\n",
              "      <td id=\"T_0690a_row10_col6\" class=\"data row10 col6\" >0.5770</td>\n",
              "    </tr>\n",
              "    <tr>\n",
              "      <th id=\"T_0690a_level0_row11\" class=\"row_heading level0 row11\" >Std</th>\n",
              "      <td id=\"T_0690a_row11_col0\" class=\"data row11 col0\" >0.0018</td>\n",
              "      <td id=\"T_0690a_row11_col1\" class=\"data row11 col1\" >0.0018</td>\n",
              "      <td id=\"T_0690a_row11_col2\" class=\"data row11 col2\" >0.0096</td>\n",
              "      <td id=\"T_0690a_row11_col3\" class=\"data row11 col3\" >0.0135</td>\n",
              "      <td id=\"T_0690a_row11_col4\" class=\"data row11 col4\" >0.0100</td>\n",
              "      <td id=\"T_0690a_row11_col5\" class=\"data row11 col5\" >0.0110</td>\n",
              "      <td id=\"T_0690a_row11_col6\" class=\"data row11 col6\" >0.0111</td>\n",
              "    </tr>\n",
              "  </tbody>\n",
              "</table>\n"
            ]
          },
          "metadata": {}
        },
        {
          "output_type": "display_data",
          "data": {
            "text/plain": [
              "Processing:   0%|          | 0/7 [00:00<?, ?it/s]"
            ],
            "application/vnd.jupyter.widget-view+json": {
              "version_major": 2,
              "version_minor": 0,
              "model_id": "89ce0f04e04c4c6892df40c02ad63ff7"
            }
          },
          "metadata": {
            "application/vnd.jupyter.widget-view+json": {
              "colab": {
                "custom_widget_manager": {
                  "url": "https://ssl.gstatic.com/colaboratory-static/widgets/colab-cdn-widget-manager/b3e629b1971e1542/manager.min.js"
                }
              }
            }
          }
        },
        {
          "output_type": "stream",
          "name": "stdout",
          "text": [
            "Fitting 10 folds for each of 10 candidates, totalling 100 fits\n"
          ]
        },
        {
          "output_type": "display_data",
          "data": {
            "text/plain": [
              "<IPython.core.display.HTML object>"
            ],
            "text/html": []
          },
          "metadata": {}
        }
      ]
    },
    {
      "cell_type": "code",
      "source": [
        "plot_model(tuned_best_model, plot = 'auc')\n",
        "#number for roc curves and categorization to poor to good to great"
      ],
      "metadata": {
        "colab": {
          "base_uri": "https://localhost:8080/",
          "height": 524
        },
        "id": "cjkmGZ3E9W-_",
        "outputId": "5898b378-93a4-4adc-e563-095d426b0c9a"
      },
      "execution_count": null,
      "outputs": [
        {
          "output_type": "display_data",
          "data": {
            "text/plain": [
              "<IPython.core.display.HTML object>"
            ],
            "text/html": []
          },
          "metadata": {}
        },
        {
          "output_type": "display_data",
          "data": {
            "text/plain": [
              "<Figure size 800x550 with 1 Axes>"
            ],
            "image/png": "[encoded data removed]"
          },
          "metadata": {}
        }
      ]
    },
    {
      "cell_type": "code",
      "source": [
        "# Feature Importance Plot\n",
        "plot_model(tuned_best_model, plot = 'feature')\n",
        "# print top 1 feature categorical"
      ],
      "metadata": {
        "colab": {
          "base_uri": "https://localhost:8080/",
          "height": 485
        },
        "id": "38LONHSi_UHN",
        "outputId": "15af21bd-0557-40ac-cdfd-749d1aee651a"
      },
      "execution_count": null,
      "outputs": [
        {
          "output_type": "display_data",
          "data": {
            "text/plain": [
              "<IPython.core.display.HTML object>"
            ],
            "text/html": []
          },
          "metadata": {}
        },
        {
          "output_type": "display_data",
          "data": {
            "text/plain": [
              "<Figure size 800x500 with 1 Axes>"
            ],
            "image/png": "[encoded data removed]"
          },
          "metadata": {}
        }
      ]
    },
    {
      "cell_type": "code",
      "source": [
        "# Confusion Matrix\n",
        "plot_model(tuned_best_model, plot = 'confusion_matrix')\n",
        "# add cm for test along this"
      ],
      "metadata": {
        "colab": {
          "base_uri": "https://localhost:8080/",
          "height": 551
        },
        "id": "h7Otr-is_Zg-",
        "outputId": "fac9f0c5-7f44-49f2-97e5-64d22b13d168"
      },
      "execution_count": null,
      "outputs": [
        {
          "output_type": "display_data",
          "data": {
            "text/plain": [
              "<IPython.core.display.HTML object>"
            ],
            "text/html": []
          },
          "metadata": {}
        },
        {
          "output_type": "display_data",
          "data": {
            "text/plain": [
              "<Figure size 800x550 with 1 Axes>"
            ],
            "image/png": "[encoded data removed]"
          },
          "metadata": {}
        }
      ]
    },
    {
      "cell_type": "markdown",
      "source": [],
      "metadata": {
        "id": "cgzholdf_601"
      }
    },
    {
      "cell_type": "code",
      "source": [
        "predictions = predict_model(tuned_best_model, data=test_data, probability_threshold=0.33)\n"
      ],
      "metadata": {
        "colab": {
          "base_uri": "https://localhost:8080/",
          "height": 81
        },
        "id": "uoJQFY_t_oMV",
        "outputId": "6a1b2eda-11c7-4f9b-ea71-fd20a777df03"
      },
      "execution_count": null,
      "outputs": [
        {
          "output_type": "display_data",
          "data": {
            "text/plain": [
              "<pandas.io.formats.style.Styler at 0x7f74e83e0b80>"
            ],
            "text/html": [
              "<style type=\"text/css\">\n",
              "</style>\n",
              "<table id=\"T_a619f\" class=\"dataframe\">\n",
              "  <thead>\n",
              "    <tr>\n",
              "      <th class=\"blank level0\" >&nbsp;</th>\n",
              "      <th id=\"T_a619f_level0_col0\" class=\"col_heading level0 col0\" >Model</th>\n",
              "      <th id=\"T_a619f_level0_col1\" class=\"col_heading level0 col1\" >Accuracy</th>\n",
              "      <th id=\"T_a619f_level0_col2\" class=\"col_heading level0 col2\" >AUC</th>\n",
              "      <th id=\"T_a619f_level0_col3\" class=\"col_heading level0 col3\" >Recall</th>\n",
              "      <th id=\"T_a619f_level0_col4\" class=\"col_heading level0 col4\" >Prec.</th>\n",
              "      <th id=\"T_a619f_level0_col5\" class=\"col_heading level0 col5\" >F1</th>\n",
              "      <th id=\"T_a619f_level0_col6\" class=\"col_heading level0 col6\" >Kappa</th>\n",
              "      <th id=\"T_a619f_level0_col7\" class=\"col_heading level0 col7\" >MCC</th>\n",
              "    </tr>\n",
              "  </thead>\n",
              "  <tbody>\n",
              "    <tr>\n",
              "      <th id=\"T_a619f_level0_row0\" class=\"row_heading level0 row0\" >0</th>\n",
              "      <td id=\"T_a619f_row0_col0\" class=\"data row0 col0\" >Light Gradient Boosting Machine</td>\n",
              "      <td id=\"T_a619f_row0_col1\" class=\"data row0 col1\" >0.7656</td>\n",
              "      <td id=\"T_a619f_row0_col2\" class=\"data row0 col2\" >0.8564</td>\n",
              "      <td id=\"T_a619f_row0_col3\" class=\"data row0 col3\" >0.3667</td>\n",
              "      <td id=\"T_a619f_row0_col4\" class=\"data row0 col4\" >0.9535</td>\n",
              "      <td id=\"T_a619f_row0_col5\" class=\"data row0 col5\" >0.5297</td>\n",
              "      <td id=\"T_a619f_row0_col6\" class=\"data row0 col6\" >0.4121</td>\n",
              "      <td id=\"T_a619f_row0_col7\" class=\"data row0 col7\" >0.4957</td>\n",
              "    </tr>\n",
              "  </tbody>\n",
              "</table>\n"
            ]
          },
          "metadata": {}
        }
      ]
    },
    {
      "cell_type": "code",
      "source": [
        "predictions.columns"
      ],
      "metadata": {
        "id": "f7S38utjG-7L"
      },
      "execution_count": null,
      "outputs": []
    },
    {
      "cell_type": "code",
      "source": [
        "test_data.columns"
      ],
      "metadata": {
        "id": "VfiT2EqQz2q6"
      },
      "execution_count": null,
      "outputs": []
    },
    {
      "cell_type": "code",
      "source": [
        "predictions.head()"
      ],
      "metadata": {
        "id": "Tg1mnlIcHtBk"
      },
      "execution_count": null,
      "outputs": []
    },
    {
      "cell_type": "code",
      "source": [
        "save_model(tuned_best_model, 'saved_tuned_best_model_churn_prediction')\n"
      ],
      "metadata": {
        "id": "8Zg6NpcuZ3Xs"
      },
      "execution_count": null,
      "outputs": []
    },
    {
      "cell_type": "code",
      "source": [
        "saved_lr = load_model('saved_tuned_best_model_churn_prediction')\n"
      ],
      "metadata": {
        "colab": {
          "base_uri": "https://localhost:8080/"
        },
        "id": "9kXkvDA90haW",
        "outputId": "3e4b1840-718d-41a9-a9fe-c0d24548afc6"
      },
      "execution_count": null,
      "outputs": [
        {
          "output_type": "stream",
          "name": "stdout",
          "text": [
            "Transformation Pipeline and Model Successfully Loaded\n"
          ]
        }
      ]
    },
    {
      "cell_type": "code",
      "source": [],
      "metadata": {
        "id": "ggOWq7mv0mEm"
      },
      "execution_count": null,
      "outputs": []
    }
  ]
}